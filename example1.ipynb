{
 "cells": [
  {
   "cell_type": "markdown",
   "id": "dc0c3258",
   "metadata": {},
   "source": [
    "# 例題\n",
    "\n",
    "\n",
    "宮ヶ瀬ダム流域（流域面積100.465038941$\\rm{km^2}$)を対象にテスト計算を実施する。\n",
    "\n",
    "雨量データは'rain.csv'、ダム流入量は'宮ヶ瀬ダム.csv'を使用する。\n",
    "\n",
    "各種パラメータは以下のとおりとする。\n",
    "\n",
    " - $dt$ : 1分\n",
    " - $k:40.3$\n",
    " - $p:0.5$\n",
    " - $R_{sa}:100[\\rm{mm}]$\n",
    " - $Q_b: 2.0[\\rm{m^3/s}]$\n",
    " - $f_1: 0.5$\n",
    " - $T_l: 0[\\rm{hr}]$"
   ]
  },
  {
   "cell_type": "code",
   "execution_count": 1,
   "id": "54cc7218",
   "metadata": {},
   "outputs": [],
   "source": [
    "import modelStorageFunction as model\n",
    "import pandas as pd\n",
    "import numpy as np"
   ]
  },
  {
   "cell_type": "code",
   "execution_count": 2,
   "id": "fa3b2bf7",
   "metadata": {},
   "outputs": [
    {
     "data": {
      "text/html": [
       "<div>\n",
       "<style scoped>\n",
       "    .dataframe tbody tr th:only-of-type {\n",
       "        vertical-align: middle;\n",
       "    }\n",
       "\n",
       "    .dataframe tbody tr th {\n",
       "        vertical-align: top;\n",
       "    }\n",
       "\n",
       "    .dataframe thead th {\n",
       "        text-align: right;\n",
       "    }\n",
       "</style>\n",
       "<table border=\"1\" class=\"dataframe\">\n",
       "  <thead>\n",
       "    <tr style=\"text-align: right;\">\n",
       "      <th></th>\n",
       "      <th>rainfall</th>\n",
       "    </tr>\n",
       "    <tr>\n",
       "      <th>date</th>\n",
       "      <th></th>\n",
       "    </tr>\n",
       "  </thead>\n",
       "  <tbody>\n",
       "    <tr>\n",
       "      <th>2019-10-11 09:00:00</th>\n",
       "      <td>0.000000</td>\n",
       "    </tr>\n",
       "    <tr>\n",
       "      <th>2019-10-11 09:30:00</th>\n",
       "      <td>0.000000</td>\n",
       "    </tr>\n",
       "    <tr>\n",
       "      <th>2019-10-11 10:00:00</th>\n",
       "      <td>0.000000</td>\n",
       "    </tr>\n",
       "    <tr>\n",
       "      <th>2019-10-11 10:30:00</th>\n",
       "      <td>0.132632</td>\n",
       "    </tr>\n",
       "    <tr>\n",
       "      <th>2019-10-11 11:00:00</th>\n",
       "      <td>0.090526</td>\n",
       "    </tr>\n",
       "    <tr>\n",
       "      <th>...</th>\n",
       "      <td>...</td>\n",
       "    </tr>\n",
       "    <tr>\n",
       "      <th>2019-10-14 06:30:00</th>\n",
       "      <td>0.202105</td>\n",
       "    </tr>\n",
       "    <tr>\n",
       "      <th>2019-10-14 07:00:00</th>\n",
       "      <td>0.235789</td>\n",
       "    </tr>\n",
       "    <tr>\n",
       "      <th>2019-10-14 07:30:00</th>\n",
       "      <td>0.231579</td>\n",
       "    </tr>\n",
       "    <tr>\n",
       "      <th>2019-10-14 08:00:00</th>\n",
       "      <td>0.117895</td>\n",
       "    </tr>\n",
       "    <tr>\n",
       "      <th>2019-10-14 08:30:00</th>\n",
       "      <td>0.261053</td>\n",
       "    </tr>\n",
       "  </tbody>\n",
       "</table>\n",
       "<p>144 rows × 1 columns</p>\n",
       "</div>"
      ],
      "text/plain": [
       "                     rainfall\n",
       "date                         \n",
       "2019-10-11 09:00:00  0.000000\n",
       "2019-10-11 09:30:00  0.000000\n",
       "2019-10-11 10:00:00  0.000000\n",
       "2019-10-11 10:30:00  0.132632\n",
       "2019-10-11 11:00:00  0.090526\n",
       "...                       ...\n",
       "2019-10-14 06:30:00  0.202105\n",
       "2019-10-14 07:00:00  0.235789\n",
       "2019-10-14 07:30:00  0.231579\n",
       "2019-10-14 08:00:00  0.117895\n",
       "2019-10-14 08:30:00  0.261053\n",
       "\n",
       "[144 rows x 1 columns]"
      ]
     },
     "execution_count": 2,
     "metadata": {},
     "output_type": "execute_result"
    }
   ],
   "source": [
    "df = pd.read_csv('rain.csv', index_col='date', parse_dates=True)\n",
    "df"
   ]
  },
  {
   "cell_type": "markdown",
   "id": "76e3078e",
   "metadata": {},
   "source": [
    "## 流出高の計算"
   ]
  },
  {
   "cell_type": "code",
   "execution_count": 3,
   "id": "2674e7e2",
   "metadata": {},
   "outputs": [],
   "source": [
    "t = df.index - df.index[0]\n",
    "time = t.total_seconds()/3600\n",
    "\n",
    "rain = df['rainfall'].values\n",
    "\n",
    "dt = float(60/3600) #[hr]\n",
    "k, p = float(40.3), float(0.5)\n",
    "Rsa = float(100)\n",
    "\n",
    "tout, ql1, ql2 = model.calql(time, rain, dt, k, p, Rsa)"
   ]
  },
  {
   "cell_type": "markdown",
   "id": "c1c25e6a",
   "metadata": {},
   "source": [
    "## 流出量の計算"
   ]
  },
  {
   "cell_type": "code",
   "execution_count": 4,
   "id": "f13af8bb",
   "metadata": {},
   "outputs": [],
   "source": [
    "Qb = float(2.0)\n",
    "A = float(100.465038941) #[km^2]\n",
    "f1 = float(0.5)\n",
    "\n",
    "Ql = model.calQall(ql1, ql2, f1, A, Qb)"
   ]
  },
  {
   "cell_type": "markdown",
   "id": "945d670b",
   "metadata": {},
   "source": [
    "## 遅れ時間のシフト \n",
    "省略"
   ]
  },
  {
   "cell_type": "markdown",
   "id": "60a841c3",
   "metadata": {},
   "source": [
    "## 解析結果を出力"
   ]
  },
  {
   "cell_type": "code",
   "execution_count": 5,
   "id": "c4ab35bc",
   "metadata": {},
   "outputs": [
    {
     "data": {
      "text/html": [
       "<div>\n",
       "<style scoped>\n",
       "    .dataframe tbody tr th:only-of-type {\n",
       "        vertical-align: middle;\n",
       "    }\n",
       "\n",
       "    .dataframe tbody tr th {\n",
       "        vertical-align: top;\n",
       "    }\n",
       "\n",
       "    .dataframe thead th {\n",
       "        text-align: right;\n",
       "    }\n",
       "</style>\n",
       "<table border=\"1\" class=\"dataframe\">\n",
       "  <thead>\n",
       "    <tr style=\"text-align: right;\">\n",
       "      <th></th>\n",
       "      <th>Q</th>\n",
       "    </tr>\n",
       "  </thead>\n",
       "  <tbody>\n",
       "    <tr>\n",
       "      <th>2019-10-11 09:00:00</th>\n",
       "      <td>2.000000</td>\n",
       "    </tr>\n",
       "    <tr>\n",
       "      <th>2019-10-11 09:01:00</th>\n",
       "      <td>2.000000</td>\n",
       "    </tr>\n",
       "    <tr>\n",
       "      <th>2019-10-11 09:02:00</th>\n",
       "      <td>2.000000</td>\n",
       "    </tr>\n",
       "    <tr>\n",
       "      <th>2019-10-11 09:03:00</th>\n",
       "      <td>2.000000</td>\n",
       "    </tr>\n",
       "    <tr>\n",
       "      <th>2019-10-11 09:04:00</th>\n",
       "      <td>2.000000</td>\n",
       "    </tr>\n",
       "    <tr>\n",
       "      <th>...</th>\n",
       "      <td>...</td>\n",
       "    </tr>\n",
       "    <tr>\n",
       "      <th>2019-10-14 08:25:00</th>\n",
       "      <td>30.056323</td>\n",
       "    </tr>\n",
       "    <tr>\n",
       "      <th>2019-10-14 08:26:00</th>\n",
       "      <td>30.035787</td>\n",
       "    </tr>\n",
       "    <tr>\n",
       "      <th>2019-10-14 08:27:00</th>\n",
       "      <td>30.015276</td>\n",
       "    </tr>\n",
       "    <tr>\n",
       "      <th>2019-10-14 08:28:00</th>\n",
       "      <td>29.994789</td>\n",
       "    </tr>\n",
       "    <tr>\n",
       "      <th>2019-10-14 08:29:00</th>\n",
       "      <td>29.974327</td>\n",
       "    </tr>\n",
       "  </tbody>\n",
       "</table>\n",
       "<p>4290 rows × 1 columns</p>\n",
       "</div>"
      ],
      "text/plain": [
       "                             Q\n",
       "2019-10-11 09:00:00   2.000000\n",
       "2019-10-11 09:01:00   2.000000\n",
       "2019-10-11 09:02:00   2.000000\n",
       "2019-10-11 09:03:00   2.000000\n",
       "2019-10-11 09:04:00   2.000000\n",
       "...                        ...\n",
       "2019-10-14 08:25:00  30.056323\n",
       "2019-10-14 08:26:00  30.035787\n",
       "2019-10-14 08:27:00  30.015276\n",
       "2019-10-14 08:28:00  29.994789\n",
       "2019-10-14 08:29:00  29.974327\n",
       "\n",
       "[4290 rows x 1 columns]"
      ]
     },
     "execution_count": 5,
     "metadata": {},
     "output_type": "execute_result"
    }
   ],
   "source": [
    "toutr = [df.index[0] + pd.Timedelta(hours = tp) for tp in tout]\n",
    "dfout = pd.DataFrame({'Q':Ql},index=toutr)\n",
    "dfout"
   ]
  },
  {
   "cell_type": "code",
   "execution_count": 7,
   "id": "a94d89b0",
   "metadata": {},
   "outputs": [],
   "source": [
    "d = dfout.to_csv('calout.csv', index_label='date')"
   ]
  }
 ],
 "metadata": {
  "kernelspec": {
   "display_name": "Python 3",
   "language": "python",
   "name": "python3"
  },
  "language_info": {
   "codemirror_mode": {
    "name": "ipython",
    "version": 3
   },
   "file_extension": ".py",
   "mimetype": "text/x-python",
   "name": "python",
   "nbconvert_exporter": "python",
   "pygments_lexer": "ipython3",
   "version": "3.7.10"
  },
  "toc": {
   "base_numbering": 1,
   "nav_menu": {},
   "number_sections": true,
   "sideBar": true,
   "skip_h1_title": false,
   "title_cell": "Table of Contents",
   "title_sidebar": "Contents",
   "toc_cell": false,
   "toc_position": {},
   "toc_section_display": true,
   "toc_window_display": false
  }
 },
 "nbformat": 4,
 "nbformat_minor": 5
}
