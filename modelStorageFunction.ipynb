{
 "cells": [
  {
   "cell_type": "markdown",
   "id": "49f2e809",
   "metadata": {},
   "source": [
    "# 木村の貯留関数法"
   ]
  },
  {
   "cell_type": "markdown",
   "id": "987a7481",
   "metadata": {},
   "source": [
    "## 流出高の計算"
   ]
  },
  {
   "cell_type": "markdown",
   "id": "fe767758",
   "metadata": {},
   "source": [
    "木村の貯留関数法では、連続式、運動方程式を次のようにモデル化する。\n",
    "$$\n",
    "\\begin{align}\n",
    "\\dfrac{ds}{dt} &= r_e - q_l \\\\\n",
    "s &= k {q_l}^p\n",
    "\\end{align}\n",
    "$$\n",
    "\n",
    "$s$：貯留高[mm/hr]、$q_l$：遅れ時間 $T_l$[hr]を考慮した流出量[mm/hr]、$r_e$：有効降雨強度[mm/h]、$k,p$：パラメータ\n",
    "\n",
    "流域を流出域と浸透域に分けてそれぞれに本式を適用する。\n",
    "流出域と浸透域の面積率は$f_1$、$1-f_1$とする。なお、$f_1$はパラメータとする。\n",
    "\n",
    "以降、流出域は添字1と浸透域は添字2を付ける。\n",
    "\n",
    "流出域、浸透域の有効降雨強度$r_e$は次のように与える。\n",
    "\n",
    "$$\n",
    "\\begin{align}\n",
    "{r_e}_1 &= r \\\\\n",
    "{r_e}_2 &= \\begin{cases}\n",
    "    0  & (R_{sa} <= \\sum r) \\\\\n",
    "    r  & (R_{sa} > \\sum r ) \\\\\n",
    "  \\end{cases}\n",
    "\\end{align}\n",
    "$$\n",
    "\n",
    "$r$：流域平均降雨強度[mm/hr]，$R_{sa}$：飽和雨量[mm]\n",
    "\n",
    "これらを用いて、流出域、浸透域の流出高、${q_l}_1,{q_l}_2$を計算する。"
   ]
  },
  {
   "cell_type": "markdown",
   "id": "0e9fd098",
   "metadata": {},
   "source": [
    "###  離散化"
   ]
  },
  {
   "cell_type": "markdown",
   "id": "79b239ba",
   "metadata": {},
   "source": [
    "### ソースコード"
   ]
  },
  {
   "cell_type": "code",
   "execution_count": 1,
   "id": "e683665c",
   "metadata": {},
   "outputs": [],
   "source": [
    "import numpy as np\n",
    "import pandas as pd\n",
    "from scipy import interpolate"
   ]
  },
  {
   "cell_type": "code",
   "execution_count": 4,
   "id": "864c07d2",
   "metadata": {},
   "outputs": [],
   "source": [
    "def calql(RainT, Rain, dt, k, p, Rsa):\n",
    "    # 降雨は慣習的に階段上に補間する。\n",
    "    funcRain = interpolate.interp1d(RainT, Rain, kind='previous')\n",
    "    \n",
    "    nmax = int(RainT[-1]/dt)\n",
    "    ql1 = np.zeros(nmax)\n",
    "    ql2 = np.zeros(nmax)\n",
    "    sumR = float(0)\n",
    "    isSaturated = False\n",
    "    for n in range(nmax-1):\n",
    "    # 流出域\n",
    "        re1 = funcRain(dt*n)\n",
    "        ql1[n+1] = (ql1[n]**p + dt/k*(re1-ql1[n]))**(float(1)/p)\n",
    "    # 浸透域\n",
    "        sumR += dt*re1\n",
    "        if isSaturated:\n",
    "            re2 = re1\n",
    "        else: \n",
    "            if Rsa < sumR:\n",
    "                re2 = (sumR-Rsa)/dt\n",
    "                isSaturated = True\n",
    "            else:\n",
    "                re2 = float(0)\n",
    "                \n",
    "        ql2[n+1] = (ql2[n]**p + dt/k*(re2-ql2[n]))**(float(1)/p)\n",
    "    \n",
    "    return np.arange(nmax)*dt, ql1, ql2"
   ]
  },
  {
   "cell_type": "markdown",
   "id": "c328ec1f",
   "metadata": {},
   "source": [
    "## 流出量の計算"
   ]
  },
  {
   "cell_type": "markdown",
   "id": "07977b25",
   "metadata": {},
   "source": [
    "遅れ時間$T_l$[hr]を考慮した流域からの流出量$Q_l$[$\\rm{m^3/s}$]は流出高${q_l}_1,{q_l}_2$を用いて以下のように示す。\n",
    "$$\n",
    "\\begin{align}\n",
    "Q_l = \\dfrac{1}{3.6}f_1 \\cdot A \\cdot {q_l}_1 + \\dfrac{1}{3.6}(1-f_1) \\cdot A \\cdot {q_l}_2 + Q_b\n",
    "\\end{align}\n",
    "$$\n",
    "\n",
    "$A$：流域面積[$\\rm{km}^2$]、$Q_b$：基底流量[$\\rm{m^3/s}$]、$f_1$：流出域の面積率\n",
    "\n",
    "$f_1$はパラメータである。"
   ]
  },
  {
   "cell_type": "markdown",
   "id": "be13b244",
   "metadata": {},
   "source": [
    "### ソースコード"
   ]
  },
  {
   "cell_type": "code",
   "execution_count": 3,
   "id": "f99e1e0a",
   "metadata": {},
   "outputs": [],
   "source": [
    "def calQall(ql1, ql2, f1, A, Qb):\n",
    "    return (f1*ql1+(1.0-f1)*ql2)*A/3.6 + Qb"
   ]
  },
  {
   "cell_type": "markdown",
   "id": "086eec60",
   "metadata": {},
   "source": [
    "## 遅れ時間のシフト"
   ]
  },
  {
   "cell_type": "markdown",
   "id": "00d9df13",
   "metadata": {},
   "source": [
    "流出量$Q$[$\\rm{m^3/s}$]は次式で示される。\n",
    "\n",
    "$$\n",
    "\\begin{align}\n",
    "Q_l(t) = Q(t+T_l)\n",
    "\\end{align}\n",
    "$$\n",
    "\n",
    "$T_l$[hr]：遅れ時間\n",
    "\n",
    "$T_l$[hr]もパラメータとなる。\n",
    "\n",
    "コードは時間をシフトさせるだけなので省略する。"
   ]
  }
 ],
 "metadata": {
  "kernelspec": {
   "display_name": "Python 3",
   "language": "python",
   "name": "python3"
  },
  "language_info": {
   "codemirror_mode": {
    "name": "ipython",
    "version": 3
   },
   "file_extension": ".py",
   "mimetype": "text/x-python",
   "name": "python",
   "nbconvert_exporter": "python",
   "pygments_lexer": "ipython3",
   "version": "3.7.10"
  },
  "toc": {
   "base_numbering": 1,
   "nav_menu": {},
   "number_sections": true,
   "sideBar": true,
   "skip_h1_title": false,
   "title_cell": "Table of Contents",
   "title_sidebar": "Contents",
   "toc_cell": false,
   "toc_position": {},
   "toc_section_display": true,
   "toc_window_display": true
  }
 },
 "nbformat": 4,
 "nbformat_minor": 5
}
